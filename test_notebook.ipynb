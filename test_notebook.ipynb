{
 "cells": [
  {
   "cell_type": "code",
   "execution_count": 2,
   "id": "e5ed889c",
   "metadata": {},
   "outputs": [
    {
     "name": "stdout",
     "output_type": "stream",
     "text": [
      "response:  Google is a multinational technology company that specializes in Internet-related services and products. It was founded on September 4, 1998, by Larry Page and Sergey Brin while they were Ph.D. students at Stanford University in California.\n",
      "\n",
      "Google is best known for its search engine, which is the most widely used search engine in the world. The search engine allows users to search for information on the internet by typing keywords or phrases into a search bar. Google's search engine uses complex algorithms to rank and display relevant results, making it easier for users to find the information they need.\n",
      "\n",
      "Over time, Google has expanded its services to include a wide range of products and platforms, such as:\n",
      "\n",
      "1. **Google Maps**: a mapping service that provides directions, satellite imagery, and street views.\n",
      "2. **Google Drive**: a cloud storage service that allows users to store and access files from anywhere.\n",
      "3. **Google Docs**: a word processing and document management service that allows users to create and edit documents online.\n",
      "4. **Google Calendar**: a calendar service that allows users to schedule appointments and events.\n",
      "5. **YouTube**: a video-sharing platform that allows users to upload, share, and view videos.\n",
      "6. **Google Photos**: a photo and video storage service that allows users to store and access their media files.\n",
      "7. **Google Chrome**: a web browser that allows users to access the internet and browse websites.\n",
      "8. **Google Assistant**: a virtual assistant that allows users to interact with Google services using voice commands.\n",
      "9. **Google Home**: a smart speaker that allows users to control their smart home devices and access Google services using voice commands.\n",
      "\n",
      "Google is also a leading developer of artificial intelligence (AI) and machine learning (ML) technologies, which are used in a wide range of applications, including image recognition, natural language processing, and predictive analytics.\n",
      "\n",
      "Today, Google is a subsidiary of Alphabet Inc., a holding company that was created in 2015 to manage Google's various businesses and investments. Google is headquartered in Mountain View, California, and has offices and data centers around the world.\n"
     ]
    }
   ],
   "source": [
    "from dotenv import load_dotenv\n",
    "load_dotenv()\n",
    "from langchain_groq import ChatGroq\n",
    "llm = ChatGroq(\n",
    "    model=\"llama-3.1-8b-instant\",\n",
    "    temperature=0,\n",
    "    max_tokens=None,\n",
    "    timeout=None,\n",
    "    max_retries=2,\n",
    "    # other params...\n",
    ")\n",
    "\n",
    "response = llm.invoke(\"What is google?\")\n",
    "print(\"response: \", response.content)"
   ]
  },
  {
   "cell_type": "code",
   "execution_count": null,
   "id": "2aea977c",
   "metadata": {},
   "outputs": [],
   "source": []
  },
  {
   "cell_type": "code",
   "execution_count": null,
   "id": "16e55c8c",
   "metadata": {},
   "outputs": [],
   "source": []
  }
 ],
 "metadata": {
  "kernelspec": {
   "display_name": ".venv",
   "language": "python",
   "name": "python3"
  },
  "language_info": {
   "codemirror_mode": {
    "name": "ipython",
    "version": 3
   },
   "file_extension": ".py",
   "mimetype": "text/x-python",
   "name": "python",
   "nbconvert_exporter": "python",
   "pygments_lexer": "ipython3",
   "version": "3.13.2"
  }
 },
 "nbformat": 4,
 "nbformat_minor": 5
}
